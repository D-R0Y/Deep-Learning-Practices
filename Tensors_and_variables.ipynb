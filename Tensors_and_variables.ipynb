{
 "cells": [
  {
   "cell_type": "code",
   "execution_count": 1,
   "metadata": {},
   "outputs": [],
   "source": [
    "import tensorflow as tf\n",
    "#indexing"
   ]
  },
  {
   "cell_type": "code",
   "execution_count": 2,
   "metadata": {},
   "outputs": [
    {
     "data": {
      "text/plain": [
       "<tf.Tensor: shape=(8,), dtype=int32, numpy=array([1, 2, 3, 4, 5, 5, 6, 7])>"
      ]
     },
     "execution_count": 2,
     "metadata": {},
     "output_type": "execute_result"
    }
   ],
   "source": [
    "tf_indexed = tf.constant([1,2,3,4,5,5,6,7])\n",
    "tf_indexed"
   ]
  },
  {
   "cell_type": "code",
   "execution_count": 3,
   "metadata": {},
   "outputs": [
    {
     "data": {
      "text/plain": [
       "<tf.Tensor: shape=(5,), dtype=int32, numpy=array([1, 2, 3, 4, 5])>"
      ]
     },
     "execution_count": 3,
     "metadata": {},
     "output_type": "execute_result"
    }
   ],
   "source": [
    "tf_indexed[0:5]"
   ]
  },
  {
   "cell_type": "code",
   "execution_count": 4,
   "metadata": {},
   "outputs": [
    {
     "data": {
      "text/plain": [
       "<tf.Tensor: shape=(4,), dtype=int32, numpy=array([2, 3, 4, 5])>"
      ]
     },
     "execution_count": 4,
     "metadata": {},
     "output_type": "execute_result"
    }
   ],
   "source": [
    "tf.range(2,6)"
   ]
  },
  {
   "cell_type": "code",
   "execution_count": 9,
   "metadata": {},
   "outputs": [
    {
     "data": {
      "text/plain": [
       "<tf.Tensor: shape=(4,), dtype=int32, numpy=array([4, 5, 5, 6])>"
      ]
     },
     "execution_count": 9,
     "metadata": {},
     "output_type": "execute_result"
    }
   ],
   "source": [
    "tf_indexed[3:-1]"
   ]
  },
  {
   "cell_type": "code",
   "execution_count": 10,
   "metadata": {},
   "outputs": [
    {
     "data": {
      "text/plain": [
       "<tf.Tensor: shape=(3, 3), dtype=int32, numpy=\n",
       "array([[ 1,  2,  3],\n",
       "       [ 5,  6,  7],\n",
       "       [ 8,  9, 10]])>"
      ]
     },
     "execution_count": 10,
     "metadata": {},
     "output_type": "execute_result"
    }
   ],
   "source": [
    "#indexing in 2d tensors\n",
    "tensor_two_d = tf.constant([\n",
    "    [1,2,3],\n",
    "    [5,6,7],\n",
    "    [8,9,10]\n",
    "]\n",
    ")\n",
    "tensor_two_d"
   ]
  },
  {
   "cell_type": "code",
   "execution_count": 12,
   "metadata": {},
   "outputs": [
    {
     "data": {
      "text/plain": [
       "<tf.Tensor: shape=(2, 3), dtype=int32, numpy=\n",
       "array([[1, 2, 3],\n",
       "       [5, 6, 7]])>"
      ]
     },
     "execution_count": 12,
     "metadata": {},
     "output_type": "execute_result"
    }
   ],
   "source": [
    "tensor_two_d[0:2,0:3]   # [row,col]"
   ]
  },
  {
   "cell_type": "code",
   "execution_count": 13,
   "metadata": {},
   "outputs": [
    {
     "data": {
      "text/plain": [
       "<tf.Tensor: shape=(2, 3), dtype=int32, numpy=\n",
       "array([[1, 2, 3],\n",
       "       [5, 6, 7]])>"
      ]
     },
     "execution_count": 13,
     "metadata": {},
     "output_type": "execute_result"
    }
   ],
   "source": [
    "tensor_two_d[0:2,:]"
   ]
  },
  {
   "cell_type": "code",
   "execution_count": 14,
   "metadata": {},
   "outputs": [
    {
     "data": {
      "text/plain": [
       "<tf.Tensor: shape=(2,), dtype=int32, numpy=array([ 9, 10])>"
      ]
     },
     "execution_count": 14,
     "metadata": {},
     "output_type": "execute_result"
    }
   ],
   "source": [
    "tensor_two_d[2,1:3]"
   ]
  },
  {
   "cell_type": "code",
   "execution_count": 16,
   "metadata": {},
   "outputs": [
    {
     "data": {
      "text/plain": [
       "<tf.Tensor: shape=(), dtype=int32, numpy=8>"
      ]
     },
     "execution_count": 16,
     "metadata": {},
     "output_type": "execute_result"
    }
   ],
   "source": [
    "tensor_two_d[2,0]"
   ]
  },
  {
   "cell_type": "code",
   "execution_count": 17,
   "metadata": {},
   "outputs": [
    {
     "data": {
      "text/plain": [
       "<tf.Tensor: shape=(3,), dtype=int32, numpy=array([1, 5, 8])>"
      ]
     },
     "execution_count": 17,
     "metadata": {},
     "output_type": "execute_result"
    }
   ],
   "source": [
    "tensor_two_d[:,0]"
   ]
  },
  {
   "cell_type": "code",
   "execution_count": 18,
   "metadata": {},
   "outputs": [
    {
     "data": {
      "text/plain": [
       "<tf.Tensor: shape=(3, 2, 3), dtype=int32, numpy=\n",
       "array([[[1, 2, 3],\n",
       "        [5, 6, 7]],\n",
       "\n",
       "       [[1, 2, 3],\n",
       "        [5, 6, 7]],\n",
       "\n",
       "       [[1, 2, 3],\n",
       "        [5, 6, 7]]])>"
      ]
     },
     "execution_count": 18,
     "metadata": {},
     "output_type": "execute_result"
    }
   ],
   "source": [
    "#indexing in 3d tensors\n",
    "tensor_three_d = tf.constant([\n",
    "    [[1,2,3],\n",
    "    [5,6,7]],\n",
    "    \n",
    "    [[1,2,3],\n",
    "    [5,6,7]],\n",
    "    \n",
    "    [[1,2,3],\n",
    "    [5,6,7]]\n",
    "])\n",
    "tensor_three_d"
   ]
  },
  {
   "cell_type": "code",
   "execution_count": 19,
   "metadata": {},
   "outputs": [
    {
     "data": {
      "text/plain": [
       "<tf.Tensor: shape=(2, 3), dtype=int32, numpy=\n",
       "array([[1, 2, 3],\n",
       "       [5, 6, 7]])>"
      ]
     },
     "execution_count": 19,
     "metadata": {},
     "output_type": "execute_result"
    }
   ],
   "source": [
    "tensor_three_d[0,:,:] # [2d_index,row,col]"
   ]
  },
  {
   "cell_type": "code",
   "execution_count": 23,
   "metadata": {},
   "outputs": [
    {
     "data": {
      "text/plain": [
       "<tf.Tensor: shape=(2,), dtype=int32, numpy=array([6, 7])>"
      ]
     },
     "execution_count": 23,
     "metadata": {},
     "output_type": "execute_result"
    }
   ],
   "source": [
    "tensor_three_d[0,1,1:3]"
   ]
  },
  {
   "cell_type": "markdown",
   "metadata": {},
   "source": [
    "# lecture 07 - Math operations in tensorflow"
   ]
  },
  {
   "cell_type": "code",
   "execution_count": 26,
   "metadata": {},
   "outputs": [
    {
     "data": {
      "text/plain": [
       "<tf.Tensor: shape=(2,), dtype=float16, numpy=array([2.25, 3.56], dtype=float16)>"
      ]
     },
     "execution_count": 26,
     "metadata": {},
     "output_type": "execute_result"
    }
   ],
   "source": [
    " x_abs = tf.constant([2.25,-3.56],dtype=tf.float16)\n",
    " tf.abs(x_abs)"
   ]
  },
  {
   "cell_type": "code",
   "execution_count": 27,
   "metadata": {},
   "outputs": [
    {
     "data": {
      "text/plain": [
       "<tf.Tensor: shape=(1,), dtype=float64, numpy=array([5.25594901])>"
      ]
     },
     "execution_count": 27,
     "metadata": {},
     "output_type": "execute_result"
    }
   ],
   "source": [
    "complex_abs = tf.constant([-2.25+4.75j])\n",
    "tf.abs(complex_abs)"
   ]
  },
  {
   "cell_type": "code",
   "execution_count": 29,
   "metadata": {},
   "outputs": [
    {
     "data": {
      "text/plain": [
       "<tf.Tensor: shape=(), dtype=float32, numpy=5.255949>"
      ]
     },
     "execution_count": 29,
     "metadata": {},
     "output_type": "execute_result"
    }
   ],
   "source": [
    "tf.sqrt((-2.25)**2 + 4.75**2 )"
   ]
  },
  {
   "cell_type": "code",
   "execution_count": 33,
   "metadata": {},
   "outputs": [
    {
     "data": {
      "text/plain": [
       "<tf.Tensor: shape=(5,), dtype=int32, numpy=array([6, 6, 6, 2, 6])>"
      ]
     },
     "execution_count": 33,
     "metadata": {},
     "output_type": "execute_result"
    }
   ],
   "source": [
    "x_1 = tf.constant([5,4,3,2,1])\n",
    "x_2 =tf.constant([1,2,3,0,5])\n",
    "\n",
    "tf.add(x_1,x_2)"
   ]
  },
  {
   "cell_type": "code",
   "execution_count": 31,
   "metadata": {},
   "outputs": [
    {
     "data": {
      "text/plain": [
       "<tf.Tensor: shape=(5,), dtype=int32, numpy=array([5, 8, 9, 8, 5])>"
      ]
     },
     "execution_count": 31,
     "metadata": {},
     "output_type": "execute_result"
    }
   ],
   "source": [
    "tf.multiply(x_1,x_2)"
   ]
  },
  {
   "cell_type": "code",
   "execution_count": 34,
   "metadata": {},
   "outputs": [
    {
     "data": {
      "text/plain": [
       "<tf.Tensor: shape=(5,), dtype=float64, numpy=array([5. , 2. , 1. , inf, 0.2])>"
      ]
     },
     "execution_count": 34,
     "metadata": {},
     "output_type": "execute_result"
    }
   ],
   "source": [
    "tf.divide(x_1,x_2)"
   ]
  },
  {
   "cell_type": "code",
   "execution_count": 36,
   "metadata": {},
   "outputs": [
    {
     "data": {
      "text/plain": [
       "<tf.Tensor: shape=(5,), dtype=float64, numpy=array([5. , 2. , 1. , 0. , 0.2])>"
      ]
     },
     "execution_count": 36,
     "metadata": {},
     "output_type": "execute_result"
    }
   ],
   "source": [
    "tf.math.divide_no_nan(x_1,x_2)"
   ]
  },
  {
   "cell_type": "code",
   "execution_count": 38,
   "metadata": {},
   "outputs": [
    {
     "data": {
      "text/plain": [
       "<tf.Tensor: shape=(5,), dtype=int32, numpy=array([12, 11, 10,  9,  8])>"
      ]
     },
     "execution_count": 38,
     "metadata": {},
     "output_type": "execute_result"
    }
   ],
   "source": [
    "x_3 = tf.constant([7]) #broadcasting\n",
    "tf.add(x_1,x_3)"
   ]
  },
  {
   "cell_type": "code",
   "execution_count": 39,
   "metadata": {},
   "outputs": [
    {
     "data": {
      "text/plain": [
       "<tf.Tensor: shape=(5,), dtype=int32, numpy=array([35, 28, 21, 14,  7])>"
      ]
     },
     "execution_count": 39,
     "metadata": {},
     "output_type": "execute_result"
    }
   ],
   "source": [
    "tf.multiply(x_3,x_1)"
   ]
  },
  {
   "cell_type": "code",
   "execution_count": 40,
   "metadata": {},
   "outputs": [
    {
     "data": {
      "text/plain": [
       "<tf.Tensor: shape=(), dtype=int64, numpy=6>"
      ]
     },
     "execution_count": 40,
     "metadata": {},
     "output_type": "execute_result"
    }
   ],
   "source": [
    "#tf.math.argmax - returns the index of max value\n",
    "\n",
    "amax = tf.constant([1,2,3,4,5,6,100,10])\n",
    "tf.math.argmax(amax)# returns 100's index i.e 6"
   ]
  },
  {
   "cell_type": "code",
   "execution_count": null,
   "metadata": {},
   "outputs": [],
   "source": [
    "#for 2d tensor we can specify axis - 0 means vertical axis\n",
    "#simillar for argmin"
   ]
  },
  {
   "cell_type": "code",
   "execution_count": 41,
   "metadata": {},
   "outputs": [
    {
     "data": {
      "text/plain": [
       "<tf.Tensor: shape=(3,), dtype=float32, numpy=array([0. , 0.5, 1. ], dtype=float32)>"
      ]
     },
     "execution_count": 41,
     "metadata": {},
     "output_type": "execute_result"
    }
   ],
   "source": [
    "x = tf.constant([-128.0, 0.0, 128.0], dtype=tf.float32)\n",
    "tf.sigmoid(x)"
   ]
  },
  {
   "cell_type": "markdown",
   "metadata": {},
   "source": [
    "### practice questions\n",
    "\n",
    "### Tensor Indexing\n",
    "\n",
    "1. **Create a Tensor and Slice It**\n",
    "   - Create a 3x3 tensor with values ranging from 1 to 9. Extract the second row.\n",
    "\n",
    "2. **Modify Specific Elements**\n",
    "   - Create a 4x4 tensor with values ranging from 1 to 16. Replace the elements in the second column with zeros.\n",
    "\n",
    "3. **Extract Sub-Tensor**\n",
    "   - Create a 3x3x3 tensor with values from a normal distribution. Extract a 2x2x2 sub-tensor from it.\n",
    "\n",
    "4. **Advanced Slicing**\n",
    "   - Create a 5x5 tensor with values from 1 to 25. Extract every second row and column.\n",
    "\n",
    "5. **Masking Elements**\n",
    "   - Create a 1D tensor with values from 0 to 9. Replace all elements that are greater than 5 with -1.\n",
    "\n",
    "### Mathematical Operations\n",
    "\n",
    "6. **Element-wise Addition**\n",
    "   - Create two 3x3 tensors with values ranging from 1 to 9 and 10 to 18 respectively. Perform element-wise addition.\n",
    "\n",
    "7. **Matrix Multiplication**\n",
    "   - Create a 2x3 tensor and a 3x2 tensor. Perform matrix multiplication.\n",
    "\n",
    "8. **Element-wise Operations**\n",
    "   - Create a 4x4 tensor with values from 1 to 16. Compute the element-wise square of the tensor.\n",
    "\n",
    "9. **Broadcasting and Addition**\n",
    "   - Create a 3x1 tensor and a 1x3 tensor. Add them using broadcasting to get a 3x3 result.\n",
    "\n",
    "10. **Reduction Operations**\n",
    "    - Create a 4x4 tensor with values from 1 to 16. Compute the sum of all elements and the mean of all elements.\n",
    "\n",
    "These questions should help you practice and understand tensor indexing and mathematical operations in TensorFlow. Happy coding!"
   ]
  },
  {
   "cell_type": "code",
   "execution_count": 42,
   "metadata": {},
   "outputs": [
    {
     "data": {
      "text/plain": [
       "<tf.Tensor: shape=(3,), dtype=int32, numpy=array([4, 5, 6])>"
      ]
     },
     "execution_count": 42,
     "metadata": {},
     "output_type": "execute_result"
    }
   ],
   "source": [
    "#1\n",
    "tensor_two_d = tf.constant([\n",
    "    [1,2,3],\n",
    "    [4,5,6],\n",
    "    [7,8,9]\n",
    "]\n",
    ")\n",
    "tensor_two_d[1,:]"
   ]
  },
  {
   "cell_type": "code",
   "execution_count": 53,
   "metadata": {},
   "outputs": [
    {
     "ename": "ValueError",
     "evalue": "Tensor conversion requested dtype int32 for Tensor with dtype float32: <tf.Tensor: shape=(4,), dtype=float32, numpy=array([0., 0., 0., 0.], dtype=float32)>",
     "output_type": "error",
     "traceback": [
      "\u001b[1;31m---------------------------------------------------------------------------\u001b[0m",
      "\u001b[1;31mValueError\u001b[0m                                Traceback (most recent call last)",
      "Cell \u001b[1;32mIn[53], line 8\u001b[0m\n\u001b[0;32m      1\u001b[0m tensor_two_d \u001b[38;5;241m=\u001b[39m tf\u001b[38;5;241m.\u001b[39mVariable([\n\u001b[0;32m      2\u001b[0m     [\u001b[38;5;241m1\u001b[39m,\u001b[38;5;241m2\u001b[39m,\u001b[38;5;241m3\u001b[39m,\u001b[38;5;241m4\u001b[39m],\n\u001b[0;32m      3\u001b[0m     [\u001b[38;5;241m5\u001b[39m,\u001b[38;5;241m6\u001b[39m,\u001b[38;5;241m7\u001b[39m,\u001b[38;5;241m8\u001b[39m],\n\u001b[1;32m   (...)\u001b[0m\n\u001b[0;32m      6\u001b[0m ]\n\u001b[0;32m      7\u001b[0m )\n\u001b[1;32m----> 8\u001b[0m \u001b[43mtensor_two_d\u001b[49m\u001b[43m[\u001b[49m\u001b[43m:\u001b[49m\u001b[43m,\u001b[49m\u001b[38;5;241;43m1\u001b[39;49m\u001b[43m]\u001b[49m\u001b[38;5;241;43m.\u001b[39;49m\u001b[43massign\u001b[49m\u001b[43m(\u001b[49m\u001b[43mtf\u001b[49m\u001b[38;5;241;43m.\u001b[39;49m\u001b[43mzeros\u001b[49m\u001b[43m(\u001b[49m\u001b[38;5;241;43m4\u001b[39;49m\u001b[43m)\u001b[49m\u001b[43m)\u001b[49m\n",
      "File \u001b[1;32mc:\\Users\\ASUS\\AppData\\Local\\Programs\\Python\\Python312\\Lib\\site-packages\\tensorflow\\python\\ops\\array_ops.py:1117\u001b[0m, in \u001b[0;36mstrided_slice.<locals>.assign\u001b[1;34m(val, name)\u001b[0m\n\u001b[0;32m   1114\u001b[0m \u001b[38;5;28;01mif\u001b[39;00m name \u001b[38;5;129;01mis\u001b[39;00m \u001b[38;5;28;01mNone\u001b[39;00m:\n\u001b[0;32m   1115\u001b[0m   name \u001b[38;5;241m=\u001b[39m parent_name \u001b[38;5;241m+\u001b[39m \u001b[38;5;124m\"\u001b[39m\u001b[38;5;124m_assign\u001b[39m\u001b[38;5;124m\"\u001b[39m\n\u001b[1;32m-> 1117\u001b[0m \u001b[38;5;28;01mreturn\u001b[39;00m \u001b[43mvar\u001b[49m\u001b[38;5;241;43m.\u001b[39;49m\u001b[43m_strided_slice_assign\u001b[49m\u001b[43m(\u001b[49m\n\u001b[0;32m   1118\u001b[0m \u001b[43m    \u001b[49m\u001b[43mbegin\u001b[49m\u001b[38;5;241;43m=\u001b[39;49m\u001b[43mbegin\u001b[49m\u001b[43m,\u001b[49m\n\u001b[0;32m   1119\u001b[0m \u001b[43m    \u001b[49m\u001b[43mend\u001b[49m\u001b[38;5;241;43m=\u001b[39;49m\u001b[43mend\u001b[49m\u001b[43m,\u001b[49m\n\u001b[0;32m   1120\u001b[0m \u001b[43m    \u001b[49m\u001b[43mstrides\u001b[49m\u001b[38;5;241;43m=\u001b[39;49m\u001b[43mstrides\u001b[49m\u001b[43m,\u001b[49m\n\u001b[0;32m   1121\u001b[0m \u001b[43m    \u001b[49m\u001b[43mvalue\u001b[49m\u001b[38;5;241;43m=\u001b[39;49m\u001b[43mval\u001b[49m\u001b[43m,\u001b[49m\n\u001b[0;32m   1122\u001b[0m \u001b[43m    \u001b[49m\u001b[43mname\u001b[49m\u001b[38;5;241;43m=\u001b[39;49m\u001b[43mname\u001b[49m\u001b[43m,\u001b[49m\n\u001b[0;32m   1123\u001b[0m \u001b[43m    \u001b[49m\u001b[43mbegin_mask\u001b[49m\u001b[38;5;241;43m=\u001b[39;49m\u001b[43mbegin_mask\u001b[49m\u001b[43m,\u001b[49m\n\u001b[0;32m   1124\u001b[0m \u001b[43m    \u001b[49m\u001b[43mend_mask\u001b[49m\u001b[38;5;241;43m=\u001b[39;49m\u001b[43mend_mask\u001b[49m\u001b[43m,\u001b[49m\n\u001b[0;32m   1125\u001b[0m \u001b[43m    \u001b[49m\u001b[43mellipsis_mask\u001b[49m\u001b[38;5;241;43m=\u001b[39;49m\u001b[43mellipsis_mask\u001b[49m\u001b[43m,\u001b[49m\n\u001b[0;32m   1126\u001b[0m \u001b[43m    \u001b[49m\u001b[43mnew_axis_mask\u001b[49m\u001b[38;5;241;43m=\u001b[39;49m\u001b[43mnew_axis_mask\u001b[49m\u001b[43m,\u001b[49m\n\u001b[0;32m   1127\u001b[0m \u001b[43m    \u001b[49m\u001b[43mshrink_axis_mask\u001b[49m\u001b[38;5;241;43m=\u001b[39;49m\u001b[43mshrink_axis_mask\u001b[49m\u001b[43m)\u001b[49m\n",
      "File \u001b[1;32mc:\\Users\\ASUS\\AppData\\Local\\Programs\\Python\\Python312\\Lib\\site-packages\\tensorflow\\python\\ops\\resource_variable_ops.py:1548\u001b[0m, in \u001b[0;36mBaseResourceVariable._strided_slice_assign\u001b[1;34m(self, begin, end, strides, value, name, begin_mask, end_mask, ellipsis_mask, new_axis_mask, shrink_axis_mask)\u001b[0m\n\u001b[0;32m   1538\u001b[0m \u001b[38;5;28;01mdef\u001b[39;00m \u001b[38;5;21m_strided_slice_assign\u001b[39m(\u001b[38;5;28mself\u001b[39m, begin, end, strides, value, name, begin_mask,\n\u001b[0;32m   1539\u001b[0m                           end_mask, ellipsis_mask, new_axis_mask,\n\u001b[0;32m   1540\u001b[0m                           shrink_axis_mask):\n\u001b[0;32m   1541\u001b[0m   \u001b[38;5;28;01mwith\u001b[39;00m _handle_graph(\u001b[38;5;28mself\u001b[39m\u001b[38;5;241m.\u001b[39mhandle), \u001b[38;5;28mself\u001b[39m\u001b[38;5;241m.\u001b[39m_assign_dependencies():\n\u001b[0;32m   1542\u001b[0m     \u001b[38;5;28;01mreturn\u001b[39;00m \u001b[38;5;28mself\u001b[39m\u001b[38;5;241m.\u001b[39m_lazy_read(\n\u001b[0;32m   1543\u001b[0m         gen_array_ops\u001b[38;5;241m.\u001b[39mresource_strided_slice_assign(\n\u001b[0;32m   1544\u001b[0m             ref\u001b[38;5;241m=\u001b[39m\u001b[38;5;28mself\u001b[39m\u001b[38;5;241m.\u001b[39mhandle,\n\u001b[0;32m   1545\u001b[0m             begin\u001b[38;5;241m=\u001b[39mbegin,\n\u001b[0;32m   1546\u001b[0m             end\u001b[38;5;241m=\u001b[39mend,\n\u001b[0;32m   1547\u001b[0m             strides\u001b[38;5;241m=\u001b[39mstrides,\n\u001b[1;32m-> 1548\u001b[0m             value\u001b[38;5;241m=\u001b[39m\u001b[43mops\u001b[49m\u001b[38;5;241;43m.\u001b[39;49m\u001b[43mconvert_to_tensor\u001b[49m\u001b[43m(\u001b[49m\u001b[43mvalue\u001b[49m\u001b[43m,\u001b[49m\u001b[43m \u001b[49m\u001b[43mdtype\u001b[49m\u001b[38;5;241;43m=\u001b[39;49m\u001b[38;5;28;43mself\u001b[39;49m\u001b[38;5;241;43m.\u001b[39;49m\u001b[43mdtype\u001b[49m\u001b[43m)\u001b[49m,\n\u001b[0;32m   1549\u001b[0m             name\u001b[38;5;241m=\u001b[39mname,\n\u001b[0;32m   1550\u001b[0m             begin_mask\u001b[38;5;241m=\u001b[39mbegin_mask,\n\u001b[0;32m   1551\u001b[0m             end_mask\u001b[38;5;241m=\u001b[39mend_mask,\n\u001b[0;32m   1552\u001b[0m             ellipsis_mask\u001b[38;5;241m=\u001b[39mellipsis_mask,\n\u001b[0;32m   1553\u001b[0m             new_axis_mask\u001b[38;5;241m=\u001b[39mnew_axis_mask,\n\u001b[0;32m   1554\u001b[0m             shrink_axis_mask\u001b[38;5;241m=\u001b[39mshrink_axis_mask))\n",
      "File \u001b[1;32mc:\\Users\\ASUS\\AppData\\Local\\Programs\\Python\\Python312\\Lib\\site-packages\\tensorflow\\python\\profiler\\trace.py:183\u001b[0m, in \u001b[0;36mtrace_wrapper.<locals>.inner_wrapper.<locals>.wrapped\u001b[1;34m(*args, **kwargs)\u001b[0m\n\u001b[0;32m    181\u001b[0m   \u001b[38;5;28;01mwith\u001b[39;00m Trace(trace_name, \u001b[38;5;241m*\u001b[39m\u001b[38;5;241m*\u001b[39mtrace_kwargs):\n\u001b[0;32m    182\u001b[0m     \u001b[38;5;28;01mreturn\u001b[39;00m func(\u001b[38;5;241m*\u001b[39margs, \u001b[38;5;241m*\u001b[39m\u001b[38;5;241m*\u001b[39mkwargs)\n\u001b[1;32m--> 183\u001b[0m \u001b[38;5;28;01mreturn\u001b[39;00m \u001b[43mfunc\u001b[49m\u001b[43m(\u001b[49m\u001b[38;5;241;43m*\u001b[39;49m\u001b[43margs\u001b[49m\u001b[43m,\u001b[49m\u001b[43m \u001b[49m\u001b[38;5;241;43m*\u001b[39;49m\u001b[38;5;241;43m*\u001b[39;49m\u001b[43mkwargs\u001b[49m\u001b[43m)\u001b[49m\n",
      "File \u001b[1;32mc:\\Users\\ASUS\\AppData\\Local\\Programs\\Python\\Python312\\Lib\\site-packages\\tensorflow\\python\\framework\\ops.py:713\u001b[0m, in \u001b[0;36mconvert_to_tensor\u001b[1;34m(value, dtype, name, as_ref, preferred_dtype, dtype_hint, ctx, accepted_result_types)\u001b[0m\n\u001b[0;32m    711\u001b[0m \u001b[38;5;66;03m# TODO(b/142518781): Fix all call-sites and remove redundant arg\u001b[39;00m\n\u001b[0;32m    712\u001b[0m preferred_dtype \u001b[38;5;241m=\u001b[39m preferred_dtype \u001b[38;5;129;01mor\u001b[39;00m dtype_hint\n\u001b[1;32m--> 713\u001b[0m \u001b[38;5;28;01mreturn\u001b[39;00m \u001b[43mtensor_conversion_registry\u001b[49m\u001b[38;5;241;43m.\u001b[39;49m\u001b[43mconvert\u001b[49m\u001b[43m(\u001b[49m\n\u001b[0;32m    714\u001b[0m \u001b[43m    \u001b[49m\u001b[43mvalue\u001b[49m\u001b[43m,\u001b[49m\u001b[43m \u001b[49m\u001b[43mdtype\u001b[49m\u001b[43m,\u001b[49m\u001b[43m \u001b[49m\u001b[43mname\u001b[49m\u001b[43m,\u001b[49m\u001b[43m \u001b[49m\u001b[43mas_ref\u001b[49m\u001b[43m,\u001b[49m\u001b[43m \u001b[49m\u001b[43mpreferred_dtype\u001b[49m\u001b[43m,\u001b[49m\u001b[43m \u001b[49m\u001b[43maccepted_result_types\u001b[49m\n\u001b[0;32m    715\u001b[0m \u001b[43m\u001b[49m\u001b[43m)\u001b[49m\n",
      "File \u001b[1;32mc:\\Users\\ASUS\\AppData\\Local\\Programs\\Python\\Python312\\Lib\\site-packages\\tensorflow\\python\\framework\\tensor_conversion_registry.py:209\u001b[0m, in \u001b[0;36mconvert\u001b[1;34m(value, dtype, name, as_ref, preferred_dtype, accepted_result_types)\u001b[0m\n\u001b[0;32m    207\u001b[0m overload \u001b[38;5;241m=\u001b[39m \u001b[38;5;28mgetattr\u001b[39m(value, \u001b[38;5;124m\"\u001b[39m\u001b[38;5;124m__tf_tensor__\u001b[39m\u001b[38;5;124m\"\u001b[39m, \u001b[38;5;28;01mNone\u001b[39;00m)\n\u001b[0;32m    208\u001b[0m \u001b[38;5;28;01mif\u001b[39;00m overload \u001b[38;5;129;01mis\u001b[39;00m \u001b[38;5;129;01mnot\u001b[39;00m \u001b[38;5;28;01mNone\u001b[39;00m:\n\u001b[1;32m--> 209\u001b[0m   \u001b[38;5;28;01mreturn\u001b[39;00m \u001b[43moverload\u001b[49m\u001b[43m(\u001b[49m\u001b[43mdtype\u001b[49m\u001b[43m,\u001b[49m\u001b[43m \u001b[49m\u001b[43mname\u001b[49m\u001b[43m)\u001b[49m  \u001b[38;5;66;03m#  pylint: disable=not-callable\u001b[39;00m\n\u001b[0;32m    211\u001b[0m \u001b[38;5;28;01mfor\u001b[39;00m base_type, conversion_func \u001b[38;5;129;01min\u001b[39;00m get(\u001b[38;5;28mtype\u001b[39m(value)):\n\u001b[0;32m    212\u001b[0m   \u001b[38;5;66;03m# If dtype is None but preferred_dtype is not None, we try to\u001b[39;00m\n\u001b[0;32m    213\u001b[0m   \u001b[38;5;66;03m# cast to preferred_dtype first.\u001b[39;00m\n\u001b[0;32m    214\u001b[0m   ret \u001b[38;5;241m=\u001b[39m \u001b[38;5;28;01mNone\u001b[39;00m\n",
      "File \u001b[1;32mc:\\Users\\ASUS\\AppData\\Local\\Programs\\Python\\Python312\\Lib\\site-packages\\tensorflow\\python\\framework\\ops.py:608\u001b[0m, in \u001b[0;36m_EagerTensorBase.__tf_tensor__\u001b[1;34m(self, dtype, name)\u001b[0m\n\u001b[0;32m    602\u001b[0m     \u001b[38;5;28;01mraise\u001b[39;00m \u001b[38;5;167;01mRuntimeError\u001b[39;00m(\n\u001b[0;32m    603\u001b[0m         _add_error_prefix(\n\u001b[0;32m    604\u001b[0m             \u001b[38;5;124m\"\u001b[39m\u001b[38;5;124mAttempting to capture an EagerTensor without \u001b[39m\u001b[38;5;124m\"\u001b[39m\n\u001b[0;32m    605\u001b[0m             \u001b[38;5;124m\"\u001b[39m\u001b[38;5;124mbuilding a function.\u001b[39m\u001b[38;5;124m\"\u001b[39m,\n\u001b[0;32m    606\u001b[0m             name\u001b[38;5;241m=\u001b[39mname))\n\u001b[0;32m    607\u001b[0m   \u001b[38;5;28;01mreturn\u001b[39;00m graph\u001b[38;5;241m.\u001b[39mcapture(\u001b[38;5;28mself\u001b[39m, name\u001b[38;5;241m=\u001b[39mname)\n\u001b[1;32m--> 608\u001b[0m \u001b[38;5;28;01mreturn\u001b[39;00m \u001b[38;5;28;43msuper\u001b[39;49m\u001b[43m(\u001b[49m\u001b[43m)\u001b[49m\u001b[38;5;241;43m.\u001b[39;49m\u001b[43m__tf_tensor__\u001b[49m\u001b[43m(\u001b[49m\u001b[43mdtype\u001b[49m\u001b[43m,\u001b[49m\u001b[43m \u001b[49m\u001b[43mname\u001b[49m\u001b[43m)\u001b[49m\n",
      "File \u001b[1;32mc:\\Users\\ASUS\\AppData\\Local\\Programs\\Python\\Python312\\Lib\\site-packages\\tensorflow\\python\\framework\\tensor.py:761\u001b[0m, in \u001b[0;36mTensor.__tf_tensor__\u001b[1;34m(self, dtype, name)\u001b[0m\n\u001b[0;32m    757\u001b[0m \u001b[38;5;28;01mdef\u001b[39;00m \u001b[38;5;21m__tf_tensor__\u001b[39m(\n\u001b[0;32m    758\u001b[0m     \u001b[38;5;28mself\u001b[39m, dtype: Optional[dtypes\u001b[38;5;241m.\u001b[39mDType] \u001b[38;5;241m=\u001b[39m \u001b[38;5;28;01mNone\u001b[39;00m, name: Optional[\u001b[38;5;28mstr\u001b[39m] \u001b[38;5;241m=\u001b[39m \u001b[38;5;28;01mNone\u001b[39;00m\n\u001b[0;32m    759\u001b[0m     ) \u001b[38;5;241m-\u001b[39m\u001b[38;5;241m>\u001b[39m \u001b[38;5;124m\"\u001b[39m\u001b[38;5;124mTensor\u001b[39m\u001b[38;5;124m\"\u001b[39m:\n\u001b[0;32m    760\u001b[0m   \u001b[38;5;28;01mif\u001b[39;00m dtype \u001b[38;5;129;01mis\u001b[39;00m \u001b[38;5;129;01mnot\u001b[39;00m \u001b[38;5;28;01mNone\u001b[39;00m \u001b[38;5;129;01mand\u001b[39;00m \u001b[38;5;129;01mnot\u001b[39;00m dtype\u001b[38;5;241m.\u001b[39mis_compatible_with(\u001b[38;5;28mself\u001b[39m\u001b[38;5;241m.\u001b[39mdtype):\n\u001b[1;32m--> 761\u001b[0m     \u001b[38;5;28;01mraise\u001b[39;00m \u001b[38;5;167;01mValueError\u001b[39;00m(\n\u001b[0;32m    762\u001b[0m         _add_error_prefix(\n\u001b[0;32m    763\u001b[0m             \u001b[38;5;124mf\u001b[39m\u001b[38;5;124m\"\u001b[39m\u001b[38;5;124mTensor conversion requested dtype \u001b[39m\u001b[38;5;132;01m{\u001b[39;00mdtype\u001b[38;5;241m.\u001b[39mname\u001b[38;5;132;01m}\u001b[39;00m\u001b[38;5;124m \u001b[39m\u001b[38;5;124m\"\u001b[39m\n\u001b[0;32m    764\u001b[0m             \u001b[38;5;124mf\u001b[39m\u001b[38;5;124m\"\u001b[39m\u001b[38;5;124mfor Tensor with dtype \u001b[39m\u001b[38;5;132;01m{\u001b[39;00m\u001b[38;5;28mself\u001b[39m\u001b[38;5;241m.\u001b[39mdtype\u001b[38;5;241m.\u001b[39mname\u001b[38;5;132;01m}\u001b[39;00m\u001b[38;5;124m: \u001b[39m\u001b[38;5;132;01m{\u001b[39;00m\u001b[38;5;28mself\u001b[39m\u001b[38;5;132;01m!r}\u001b[39;00m\u001b[38;5;124m\"\u001b[39m,\n\u001b[0;32m    765\u001b[0m             name\u001b[38;5;241m=\u001b[39mname))\n\u001b[0;32m    766\u001b[0m   \u001b[38;5;28;01mreturn\u001b[39;00m \u001b[38;5;28mself\u001b[39m\n",
      "\u001b[1;31mValueError\u001b[0m: Tensor conversion requested dtype int32 for Tensor with dtype float32: <tf.Tensor: shape=(4,), dtype=float32, numpy=array([0., 0., 0., 0.], dtype=float32)>"
     ]
    }
   ],
   "source": [
    "tensor_two_d = tf.Variable([\n",
    "    [1,2,3,4],\n",
    "    [5,6,7,8],\n",
    "    [9,10,11,12],\n",
    "    [13,14,15,16]\n",
    "]\n",
    ")\n",
    "tensor_two_d[:,1].assign(tf.zeros(4))"
   ]
  },
  {
   "cell_type": "code",
   "execution_count": 50,
   "metadata": {},
   "outputs": [
    {
     "data": {
      "text/plain": [
       "<tf.Tensor: shape=(2, 2, 2), dtype=int32, numpy=\n",
       "array([[[1, 2],\n",
       "        [4, 5]],\n",
       "\n",
       "       [[1, 2],\n",
       "        [4, 5]]])>"
      ]
     },
     "execution_count": 50,
     "metadata": {},
     "output_type": "execute_result"
    }
   ],
   "source": [
    "three_d = tf.constant([\n",
    "    [[1,2,3],\n",
    "    [4,5,6],\n",
    "    [7,8,9]],\n",
    "    \n",
    "    [[1,2,3],\n",
    "    [4,5,6],\n",
    "    [7,8,9]],\n",
    "    \n",
    "    [[1,2,3],\n",
    "    [4,5,6],\n",
    "    [7,8,9]]\n",
    "])\n",
    "three_d[0:2,0:2,0:2]"
   ]
  },
  {
   "cell_type": "code",
   "execution_count": 55,
   "metadata": {},
   "outputs": [
    {
     "data": {
      "text/plain": [
       "<tf.Tensor: shape=(3, 3), dtype=int32, numpy=\n",
       "array([[ 1,  3,  5],\n",
       "       [11, 13, 15],\n",
       "       [21, 23, 25]])>"
      ]
     },
     "execution_count": 55,
     "metadata": {},
     "output_type": "execute_result"
    }
   ],
   "source": [
    "tensor_two_d = tf.constant([\n",
    "    [1,2,3,4,5],\n",
    "    [6,7,8,9,10],\n",
    "    [11,12,13,14,15],\n",
    "    [16,17,18,19,20],\n",
    "    [21,22,23,24,25]\n",
    "]\n",
    ")\n",
    "tensor_two_d[::2,::2]"
   ]
  },
  {
   "cell_type": "code",
   "execution_count": 56,
   "metadata": {},
   "outputs": [
    {
     "data": {
      "text/plain": [
       "<tf.Tensor: shape=(10,), dtype=int32, numpy=array([ 1,  2,  3,  4,  5, -1, -1, -1, -1, -1])>"
      ]
     },
     "execution_count": 56,
     "metadata": {},
     "output_type": "execute_result"
    }
   ],
   "source": [
    "#5 no questions solution\n",
    "\n",
    "tensor = tf.constant([1,2,3,4,5,6,6,7,9,10])\n",
    "\n",
    "tf_masked = tf.where(tensor>5,-1,tensor)\n",
    "tf_masked "
   ]
  },
  {
   "cell_type": "code",
   "execution_count": 57,
   "metadata": {},
   "outputs": [
    {
     "data": {
      "text/plain": [
       "<tf.Tensor: shape=(3, 3), dtype=int32, numpy=\n",
       "array([[ 2,  4,  6],\n",
       "       [ 8, 10, 12],\n",
       "       [14, 16, 18]])>"
      ]
     },
     "execution_count": 57,
     "metadata": {},
     "output_type": "execute_result"
    }
   ],
   "source": [
    "#6\n",
    "x =  tf.constant([\n",
    "    [1,2,3],\n",
    "    [4,5,6],\n",
    "    [7,8,9]\n",
    "]\n",
    ")\n",
    "\n",
    "y =  tf.constant([\n",
    "    [1,2,3],\n",
    "    [4,5,6],\n",
    "    [7,8,9]\n",
    "]\n",
    ")\n",
    "tf.add(x,y)"
   ]
  },
  {
   "cell_type": "code",
   "execution_count": 58,
   "metadata": {},
   "outputs": [
    {
     "data": {
      "text/plain": [
       "<tf.Tensor: shape=(5, 5), dtype=int32, numpy=\n",
       "array([[  1,   4,   9,  16,  25],\n",
       "       [ 36,  49,  64,  81, 100],\n",
       "       [121, 144, 169, 196, 225],\n",
       "       [256, 289, 324, 361, 400],\n",
       "       [441, 484, 529, 576, 625]])>"
      ]
     },
     "execution_count": 58,
     "metadata": {},
     "output_type": "execute_result"
    }
   ],
   "source": [
    "#8 \n",
    "square = tf.constant([\n",
    "    [1,2,3,4,5],\n",
    "    [6,7,8,9,10],\n",
    "    [11,12,13,14,15],\n",
    "    [16,17,18,19,20],\n",
    "    [21,22,23,24,25]\n",
    "]\n",
    ")\n",
    "tf.square(square)"
   ]
  },
  {
   "cell_type": "code",
   "execution_count": 59,
   "metadata": {},
   "outputs": [
    {
     "name": "stdout",
     "output_type": "stream",
     "text": [
      "Sum: 136, Mean: 8\n"
     ]
    }
   ],
   "source": [
    "import tensorflow as tf\n",
    "\n",
    "tensor = tf.constant([[1, 2, 3, 4],\n",
    "                      [5, 6, 7, 8],\n",
    "                      [9, 10, 11, 12],\n",
    "                      [13, 14, 15, 16]])\n",
    "total_sum = tf.reduce_sum(tensor)\n",
    "mean_value = tf.reduce_mean(tensor)\n",
    "print(f\"Sum: {total_sum}, Mean: {mean_value}\")\n"
   ]
  },
  {
   "cell_type": "markdown",
   "metadata": {},
   "source": [
    "# Lecture 08 - Linear Algebra Operations"
   ]
  },
  {
   "cell_type": "code",
   "execution_count": 5,
   "metadata": {},
   "outputs": [
    {
     "name": "stdout",
     "output_type": "stream",
     "text": [
      "tf.Tensor(\n",
      "[[ 53  95 209]\n",
      " [101 173 365]], shape=(2, 3), dtype=int32)\n"
     ]
    }
   ],
   "source": [
    "import tensorflow as tf\n",
    "x_1 = tf.constant(\n",
    "    [[1,2,3],\n",
    "    [3,4,5]]\n",
    ")\n",
    "x_2 = tf.constant([\n",
    "    [5,6,7],\n",
    "    [9 ,10,11],\n",
    "    [10,23,60]\n",
    "])\n",
    "\n",
    "print(x_1@x_2)# matrix multiplication"
   ]
  },
  {
   "cell_type": "code",
   "execution_count": 6,
   "metadata": {},
   "outputs": [
    {
     "data": {
      "text/plain": [
       "<tf.Tensor: shape=(3, 2), dtype=int32, numpy=\n",
       "array([[1, 3],\n",
       "       [2, 4],\n",
       "       [3, 5]])>"
      ]
     },
     "execution_count": 6,
     "metadata": {},
     "output_type": "execute_result"
    }
   ],
   "source": [
    "tf.transpose(x_1)"
   ]
  },
  {
   "cell_type": "code",
   "execution_count": 9,
   "metadata": {},
   "outputs": [
    {
     "data": {
      "text/plain": [
       "<tf.Tensor: shape=(3, 2, 3), dtype=int32, numpy=\n",
       "array([[[11, 14, 17],\n",
       "        [35, 46, 57]],\n",
       "\n",
       "       [[11, 14, 17],\n",
       "        [35, 46, 57]],\n",
       "\n",
       "       [[11, 14, 17],\n",
       "        [35, 46, 57]]])>"
      ]
     },
     "execution_count": 9,
     "metadata": {},
     "output_type": "execute_result"
    }
   ],
   "source": [
    "x1 = tf.constant([\n",
    "    [[1,2],\n",
    "    [5,6]],\n",
    "    \n",
    "    [[1,2],\n",
    "    [5,6]],\n",
    "    \n",
    "    [[1,2],\n",
    "    [5,6]]\n",
    "])\n",
    "\n",
    "x2 =  tf.constant([\n",
    "    [[1,2,3],\n",
    "    [5,6,7]],\n",
    "    \n",
    "    [[1,2,3],\n",
    "    [5,6,7]],\n",
    "    \n",
    "    [[1,2,3],\n",
    "    [5,6,7]]\n",
    "   \n",
    "])\n",
    "\n",
    "tf.linalg.matmul(x1,x2)\n",
    "# 3,2,2   3,2,3  first value should match and rest like 2d matrix (just doing batch multiplication)"
   ]
  },
  {
   "cell_type": "code",
   "execution_count": 21,
   "metadata": {},
   "outputs": [
    {
     "name": "stdout",
     "output_type": "stream",
     "text": [
      "tf.Tensor(\n",
      "[[0. 1. 2. 3.]\n",
      " [0. 0. 1. 2.]\n",
      " [0. 0. 0. 1.]\n",
      " [0. 0. 0. 0.]], shape=(4, 4), dtype=float64)\n",
      "tf.Tensor(\n",
      "[[ 0.  0.  0.  0.]\n",
      " [-1.  0.  0.  0.]\n",
      " [-2. -1.  0.  0.]\n",
      " [-3. -2. -1.  0.]], shape=(4, 4), dtype=float64)\n"
     ]
    }
   ],
   "source": [
    "#sparse multiplication (if the matrixes are mostlyzeros)\n",
    "\n",
    "#band_part \n",
    "\n",
    "input =tf.constant( [[ 0,  1,  2, 3],\n",
    "                     [-1,  0,  1, 2],                \n",
    "                     [-2, -1,  0, 1],\n",
    "                     [-3, -2, -1, 0]],dtype = tf.float64\n",
    ")\n",
    "print(tf.linalg.band_part(input, 0, -1)) #lower triagular\n",
    "\n",
    "print(tf.linalg.band_part(input, -1, 0) )# upper traingular\n",
    "\n",
    "# m-n <= lower and n-m <= upper then current value otherwise zero. (n,m)= indexes(i,j)"
   ]
  },
  {
   "cell_type": "code",
   "execution_count": 40,
   "metadata": {},
   "outputs": [
    {
     "name": "stdout",
     "output_type": "stream",
     "text": [
      "tf.Tensor(\n",
      "[[0. 1. 2. 3.]\n",
      " [0. 0. 1. 2.]\n",
      " [0. 0. 0. 1.]\n",
      " [0. 0. 0. 0.]], shape=(4, 4), dtype=float64)\n",
      "tf.Tensor(\n",
      "[[ 0.  0.  0.  0.]\n",
      " [-1.  0.  0.  0.]\n",
      " [-2. -1.  0.  0.]\n",
      " [-3. -2. -1.  0.]], shape=(4, 4), dtype=float64)\n"
     ]
    }
   ],
   "source": []
  },
  {
   "cell_type": "code",
   "execution_count": 43,
   "metadata": {},
   "outputs": [
    {
     "data": {
      "text/plain": [
       "TensorShape([4, 4])"
      ]
     },
     "execution_count": 43,
     "metadata": {},
     "output_type": "execute_result"
    }
   ],
   "source": [
    "input.shape"
   ]
  },
  {
   "cell_type": "code",
   "execution_count": 51,
   "metadata": {},
   "outputs": [
    {
     "data": {
      "text/plain": [
       "TensorShape([3, 3])"
      ]
     },
     "execution_count": 51,
     "metadata": {},
     "output_type": "execute_result"
    }
   ],
   "source": [
    "x_2 = tf.constant([\n",
    "    [5,6,7],\n",
    "    [9 ,10,11],\n",
    "    [10,23,60]\n",
    "],dtype= tf.float32)\n",
    "x_2.shape"
   ]
  },
  {
   "cell_type": "code",
   "execution_count": 52,
   "metadata": {},
   "outputs": [
    {
     "data": {
      "text/plain": [
       "<tf.Tensor: shape=(3, 3), dtype=float32, numpy=\n",
       "array([[ 1.0000037e+00,  3.5762787e-07, -7.0780516e-08],\n",
       "       [ 3.5762787e-07,  1.0000056e+00,  1.2293458e-07],\n",
       "       [ 3.3378601e-06,  1.4305115e-06,  9.9999994e-01]], dtype=float32)>"
      ]
     },
     "execution_count": 52,
     "metadata": {},
     "output_type": "execute_result"
    }
   ],
   "source": [
    "x2_inv = tf.linalg.inv(x_2)\n",
    "\n",
    "x_2@x2_inv"
   ]
  },
  {
   "cell_type": "code",
   "execution_count": 55,
   "metadata": {},
   "outputs": [
    {
     "name": "stdout",
     "output_type": "stream",
     "text": [
      "tf.Tensor([67.45648     9.518549    0.14951238], shape=(3,), dtype=float32) tf.Tensor(\n",
      "[[ 0.14125586  0.46020028 -0.87650603]\n",
      " [ 0.2282616   0.8463864   0.4811724 ]\n",
      " [ 0.9632983  -0.268041    0.01451099]], shape=(3, 3), dtype=float32) tf.Tensor(\n",
      "[[ 0.18372759  0.7604174   0.6229042 ]\n",
      " [ 0.37484935  0.5316066  -0.75952786]\n",
      " [ 0.90869826 -0.3730414   0.18737113]], shape=(3, 3), dtype=float32)\n"
     ]
    }
   ],
   "source": [
    "s,u,v = tf.linalg.svd(x_2)\n",
    "print(s,u,v)"
   ]
  },
  {
   "cell_type": "markdown",
   "metadata": {},
   "source": [
    "## Tasks\n",
    "\n",
    "### Easy Questions\n",
    "1. **Matrix Addition**: Create two matrices of shape (3, 3) and perform matrix addition using TensorFlow.\n",
    "2. **Matrix Multiplication**: Define two matrices of shape (3, 2) and (2, 3) respectively and compute their product using TensorFlow.\n",
    "3. **Element-wise Multiplication**: Define two matrices of shape (2, 2) and compute their element-wise product using TensorFlow.\n",
    "4. **Matrix Transpose**: Create a matrix of shape (4, 3) and find its transpose using TensorFlow.\n",
    "5. **Trace of a Matrix**: Define a square matrix of shape (3, 3) and compute its trace (sum of diagonal elements) using TensorFlow.\n",
    "\n",
    "### Medium Questions\n",
    "1. **Determinant of a Matrix**: Define a square matrix of shape (3, 3) and calculate its determinant using TensorFlow.\n",
    "2. **Inverse of a Matrix**: Create a square matrix of shape (3, 3) and find its inverse using TensorFlow.\n",
    "3. **Eigenvalues and Eigenvectors**: Define a square matrix of shape (2, 2) and compute its eigenvalues and eigenvectors using TensorFlow.\n",
    "4. **Singular Value Decomposition (SVD)**: Perform singular value decomposition on a matrix of shape (3, 3) using TensorFlow.\n",
    "5. **Solving Linear System of Equations**: Given a system of linear equations represented by \\(Ax = b\\), where A is a matrix of shape (3, 3) and b is a vector of shape (3, 1), solve for x using TensorFlow.\n",
    "\n",
    "### Hard Questions\n",
    "1. **Matrix Exponential**: Compute the exponential of a square matrix of shape (2, 2) using TensorFlow.\n",
    "2. **QR Decomposition**: Perform QR decomposition on a matrix of shape (4, 3) using TensorFlow.\n",
    "3. **Cholesky Decomposition**: Create a positive definite matrix of shape (3, 3) and perform Cholesky decomposition using TensorFlow.\n",
    "4. **Frobenius Norm**: Compute the Frobenius norm of a matrix of shape (3, 3) using TensorFlow.\n",
    "5. **Tensor Decomposition (CP Decomposition)**: Perform CANDECOMP/PARAFAC (CP) decomposition on a 3-dimensional tensor of shape (3, 3, 3) using TensorFlow.\n",
    "\n",
    "Feel free to reach out if you need further clarification or examples for any of these questions!"
   ]
  },
  {
   "cell_type": "code",
   "execution_count": 61,
   "metadata": {},
   "outputs": [
    {
     "name": "stdout",
     "output_type": "stream",
     "text": [
      "tf.Tensor(\n",
      "[[ 1  4  7 10]\n",
      " [ 2  5  8 11]\n",
      " [ 3  6  9 12]], shape=(3, 4), dtype=int32)\n"
     ]
    },
    {
     "data": {
      "text/plain": [
       "<tf.Tensor: shape=(), dtype=int32, numpy=15>"
      ]
     },
     "execution_count": 61,
     "metadata": {},
     "output_type": "execute_result"
    }
   ],
   "source": [
    "# Easy\n",
    "#4\n",
    "x =  tf.constant([\n",
    "    [1,2,3],\n",
    "    [4,5,6],\n",
    "    [7,8,9],\n",
    "    [10,11,12]\n",
    "]\n",
    ")\n",
    "print(tf.transpose(x))\n",
    "\n",
    "#5\n",
    "xt=  tf.constant([\n",
    "    [1,2,3],\n",
    "    [4,5,6],\n",
    "    [7,8,9]\n",
    "]\n",
    ")\n",
    "tf.linalg.trace(x)\n",
    "\n"
   ]
  },
  {
   "cell_type": "code",
   "execution_count": 66,
   "metadata": {},
   "outputs": [
    {
     "name": "stdout",
     "output_type": "stream",
     "text": [
      "tf.Tensor(2168.9993, shape=(), dtype=float32)\n",
      "tf.Tensor([ 8.280773 +0.j  2.8835719+0.j 90.83565  +0.j], shape=(3,), dtype=complex64) tf.Tensor(\n",
      "[[ 0.73672456+0.j  0.40602392+0.j  0.03737161+0.j]\n",
      " [ 0.6639474 +0.j -0.91242903+0.j  0.0714151 +0.j]\n",
      " [-0.1281051 +0.j  0.05116452+0.j  0.9967463 +0.j]], shape=(3, 3), dtype=complex64)\n"
     ]
    }
   ],
   "source": [
    "#Medium hard\n",
    "#1\n",
    "xd =  tf.constant([\n",
    "    [7,2,3],\n",
    "    [4,5,6],\n",
    "    [7,8,90]\n",
    "],dtype = tf.float32\n",
    ")\n",
    "print(tf.linalg.det(xd))\n",
    "\n",
    "#3\n",
    "eval ,evec = tf.linalg.eig(xd)\n",
    "print(eval,evec)\n",
    "\n"
   ]
  },
  {
   "cell_type": "code",
   "execution_count": 67,
   "metadata": {},
   "outputs": [
    {
     "name": "stdout",
     "output_type": "stream",
     "text": [
      "Solution x of the linear system Ax = b:\n",
      " [[0.16666669]\n",
      " [0.16666666]\n",
      " [0.16666666]]\n"
     ]
    }
   ],
   "source": [
    "#5\n",
    "A = tf.constant([[3.0, 1.0, 2.0], \n",
    "                 [1.0, 2.0, 3.0], \n",
    "                 [2.0, 3.0, 1.0]])\n",
    "b = tf.constant([[1.0], [1.0], [1.0]])\n",
    "\n",
    "# Solve for x in Ax = b\n",
    "x = tf.linalg.solve(A, b)\n",
    "\n",
    "print(\"Solution x of the linear system Ax = b:\\n\", x.numpy())"
   ]
  },
  {
   "cell_type": "code",
   "execution_count": 68,
   "metadata": {},
   "outputs": [
    {
     "name": "stdout",
     "output_type": "stream",
     "text": [
      "Exponetial of a matrix tf.Tensor(\n",
      "[[9.2094822e+36 9.9638148e+36 1.0460394e+38]\n",
      " [1.7598850e+37 1.9040341e+37 1.9989278e+38]\n",
      " [2.4562840e+38 2.6574739e+38           inf]], shape=(3, 3), dtype=float32)\n"
     ]
    }
   ],
   "source": [
    "#Hard Questions\n",
    "#1\n",
    "xd =  tf.constant([\n",
    "    [7,2,3],\n",
    "    [4,5,6],\n",
    "    [7,8,90]\n",
    "],dtype = tf.float32\n",
    ")\n",
    "print(\"Exponetial of a matrix\",tf.linalg.expm(xd))"
   ]
  },
  {
   "cell_type": "code",
   "execution_count": 77,
   "metadata": {},
   "outputs": [
    {
     "name": "stdout",
     "output_type": "stream",
     "text": [
      "tf.Tensor(\n",
      "[[-0.07761502 -0.8330517   0.52171254]\n",
      " [-0.31046018 -0.45123714 -0.57130194]\n",
      " [-0.54330534 -0.06942132 -0.42253062]\n",
      " [-0.7761505   0.31239498  0.47212094]], shape=(4, 3), dtype=float32) tf.Tensor(\n",
      "[[-1.2884099e+01 -1.4591629e+01 -1.6299160e+01]\n",
      " [ 0.0000000e+00 -1.0413142e+00 -2.0826297e+00]\n",
      " [ 0.0000000e+00  0.0000000e+00  7.9968021e-07]], shape=(3, 3), dtype=float32)\n"
     ]
    }
   ],
   "source": [
    "x =  tf.constant([\n",
    "    [1,2,3],\n",
    "    [4,5,6],\n",
    "    [7,8,9],\n",
    "    [10,11,12]\n",
    "],dtype=tf.float32\n",
    ")\n",
    "q,r = tf.linalg.qr(x)\n",
    "print(q,r)"
   ]
  },
  {
   "cell_type": "code",
   "execution_count": 78,
   "metadata": {},
   "outputs": [
    {
     "name": "stdout",
     "output_type": "stream",
     "text": [
      "Cholesky decomposition (L) of matrix A:\n",
      " [[2.        0.        0.       ]\n",
      " [0.5       1.6583124 0.       ]\n",
      " [1.        0.        1.4142135]]\n"
     ]
    }
   ],
   "source": [
    "import tensorflow as tf\n",
    "\n",
    "# Define a positive definite matrix\n",
    "A = tf.constant([[4.0, 1.0, 2.0], \n",
    "                 [1.0, 3.0, 0.5], \n",
    "                 [2.0, 0.5, 3.0]])\n",
    "\n",
    "# Perform Cholesky decomposition\n",
    "L = tf.linalg.cholesky(A)\n",
    "\n",
    "print(\"Cholesky decomposition (L) of matrix A:\\n\", L.numpy())\n"
   ]
  },
  {
   "cell_type": "code",
   "execution_count": 80,
   "metadata": {},
   "outputs": [
    {
     "ename": "ValueError",
     "evalue": "'ord' must be a supported vector norm, got fro",
     "output_type": "error",
     "traceback": [
      "\u001b[1;31m---------------------------------------------------------------------------\u001b[0m",
      "\u001b[1;31mValueError\u001b[0m                                Traceback (most recent call last)",
      "Cell \u001b[1;32mIn[80], line 9\u001b[0m\n\u001b[0;32m      4\u001b[0m A \u001b[38;5;241m=\u001b[39m tf\u001b[38;5;241m.\u001b[39mconstant([[\u001b[38;5;241m1.0\u001b[39m, \u001b[38;5;241m2.0\u001b[39m, \u001b[38;5;241m3.0\u001b[39m], \n\u001b[0;32m      5\u001b[0m                  [\u001b[38;5;241m4.0\u001b[39m, \u001b[38;5;241m5.0\u001b[39m, \u001b[38;5;241m6.0\u001b[39m], \n\u001b[0;32m      6\u001b[0m                  [\u001b[38;5;241m7.0\u001b[39m, \u001b[38;5;241m8.0\u001b[39m, \u001b[38;5;241m9.0\u001b[39m]])\n\u001b[0;32m      8\u001b[0m \u001b[38;5;66;03m# Compute the Frobenius norm\u001b[39;00m\n\u001b[1;32m----> 9\u001b[0m frobenius_norm \u001b[38;5;241m=\u001b[39m \u001b[43mtf\u001b[49m\u001b[38;5;241;43m.\u001b[39;49m\u001b[43mnorm\u001b[49m\u001b[43m(\u001b[49m\u001b[43mA\u001b[49m\u001b[43m,\u001b[49m\u001b[43m \u001b[49m\u001b[38;5;28;43mord\u001b[39;49m\u001b[38;5;241;43m=\u001b[39;49m\u001b[38;5;124;43m'\u001b[39;49m\u001b[38;5;124;43mfro\u001b[39;49m\u001b[38;5;124;43m'\u001b[39;49m\u001b[43m)\u001b[49m\n\u001b[0;32m     11\u001b[0m \u001b[38;5;28mprint\u001b[39m(\u001b[38;5;124m\"\u001b[39m\u001b[38;5;124mFrobenius norm of matrix A:\u001b[39m\u001b[38;5;124m\"\u001b[39m, frobenius_norm\u001b[38;5;241m.\u001b[39mnumpy())\n",
      "File \u001b[1;32mc:\\Users\\ASUS\\AppData\\Local\\Programs\\Python\\Python312\\Lib\\site-packages\\tensorflow\\python\\util\\traceback_utils.py:153\u001b[0m, in \u001b[0;36mfilter_traceback.<locals>.error_handler\u001b[1;34m(*args, **kwargs)\u001b[0m\n\u001b[0;32m    151\u001b[0m \u001b[38;5;28;01mexcept\u001b[39;00m \u001b[38;5;167;01mException\u001b[39;00m \u001b[38;5;28;01mas\u001b[39;00m e:\n\u001b[0;32m    152\u001b[0m   filtered_tb \u001b[38;5;241m=\u001b[39m _process_traceback_frames(e\u001b[38;5;241m.\u001b[39m__traceback__)\n\u001b[1;32m--> 153\u001b[0m   \u001b[38;5;28;01mraise\u001b[39;00m e\u001b[38;5;241m.\u001b[39mwith_traceback(filtered_tb) \u001b[38;5;28;01mfrom\u001b[39;00m \u001b[38;5;28;01mNone\u001b[39;00m\n\u001b[0;32m    154\u001b[0m \u001b[38;5;28;01mfinally\u001b[39;00m:\n\u001b[0;32m    155\u001b[0m   \u001b[38;5;28;01mdel\u001b[39;00m filtered_tb\n",
      "File \u001b[1;32mc:\\Users\\ASUS\\AppData\\Local\\Programs\\Python\\Python312\\Lib\\site-packages\\tensorflow\\python\\ops\\linalg_ops.py:727\u001b[0m, in \u001b[0;36mnorm\u001b[1;34m(tensor, ord, axis, keepdims, name, keep_dims)\u001b[0m\n\u001b[0;32m    725\u001b[0m supported_vector_norms \u001b[38;5;241m=\u001b[39m [\u001b[38;5;124m'\u001b[39m\u001b[38;5;124meuclidean\u001b[39m\u001b[38;5;124m'\u001b[39m, \u001b[38;5;241m1\u001b[39m, \u001b[38;5;241m2\u001b[39m, np\u001b[38;5;241m.\u001b[39minf]\n\u001b[0;32m    726\u001b[0m \u001b[38;5;28;01mif\u001b[39;00m (\u001b[38;5;129;01mnot\u001b[39;00m np\u001b[38;5;241m.\u001b[39misreal(\u001b[38;5;28mord\u001b[39m) \u001b[38;5;129;01mor\u001b[39;00m \u001b[38;5;28mord\u001b[39m \u001b[38;5;241m<\u001b[39m\u001b[38;5;241m=\u001b[39m \u001b[38;5;241m0\u001b[39m) \u001b[38;5;129;01mand\u001b[39;00m \u001b[38;5;28mord\u001b[39m \u001b[38;5;129;01mnot\u001b[39;00m \u001b[38;5;129;01min\u001b[39;00m supported_vector_norms:\n\u001b[1;32m--> 727\u001b[0m   \u001b[38;5;28;01mraise\u001b[39;00m \u001b[38;5;167;01mValueError\u001b[39;00m(\u001b[38;5;124mf\u001b[39m\u001b[38;5;124m\"\u001b[39m\u001b[38;5;124m'\u001b[39m\u001b[38;5;124mord\u001b[39m\u001b[38;5;124m'\u001b[39m\u001b[38;5;124m must be a supported vector norm, got \u001b[39m\u001b[38;5;132;01m{\u001b[39;00m\u001b[38;5;28mord\u001b[39m\u001b[38;5;132;01m}\u001b[39;00m\u001b[38;5;124m\"\u001b[39m)\n\u001b[0;32m    728\u001b[0m \u001b[38;5;28;01mif\u001b[39;00m axis \u001b[38;5;129;01mis\u001b[39;00m \u001b[38;5;129;01mnot\u001b[39;00m \u001b[38;5;28;01mNone\u001b[39;00m:\n\u001b[0;32m    729\u001b[0m   axis \u001b[38;5;241m=\u001b[39m (axis,)\n",
      "\u001b[1;31mValueError\u001b[0m: 'ord' must be a supported vector norm, got fro"
     ]
    }
   ],
   "source": [
    "import tensorflow as tf\n",
    "\n",
    "# Define a matrix\n",
    "A = tf.constant([[1.0, 2.0, 3.0], \n",
    "                 [4.0, 5.0, 6.0], \n",
    "                 [7.0, 8.0, 9.0]])\n",
    "\n",
    "# Compute the Frobenius norm\n",
    "frobenius_norm = tf.norm(A, ord='fro')\n",
    "\n",
    "print(\"Frobenius norm of matrix A:\", frobenius_norm.numpy())\n"
   ]
  },
  {
   "cell_type": "code",
   "execution_count": 81,
   "metadata": {},
   "outputs": [
    {
     "name": "stdout",
     "output_type": "stream",
     "text": [
      "Collecting tensorlyNote: you may need to restart the kernel to use updated packages.\n"
     ]
    },
    {
     "name": "stderr",
     "output_type": "stream",
     "text": [
      "\n",
      "[notice] A new release of pip is available: 23.3.1 -> 24.0\n",
      "[notice] To update, run: python.exe -m pip install --upgrade pip\n"
     ]
    },
    {
     "name": "stdout",
     "output_type": "stream",
     "text": [
      "\n",
      "  Downloading tensorly-0.8.1-py3-none-any.whl.metadata (8.6 kB)\n",
      "Requirement already satisfied: numpy in c:\\users\\asus\\appdata\\local\\programs\\python\\python312\\lib\\site-packages (from tensorly) (1.26.2)\n",
      "Requirement already satisfied: scipy in c:\\users\\asus\\appdata\\local\\programs\\python\\python312\\lib\\site-packages (from tensorly) (1.11.4)\n",
      "Downloading tensorly-0.8.1-py3-none-any.whl (229 kB)\n",
      "   ---------------------------------------- 0.0/229.7 kB ? eta -:--:--\n",
      "   ---------------------------------------- 0.0/229.7 kB ? eta -:--:--\n",
      "   ---------------------------------------- 0.0/229.7 kB ? eta -:--:--\n",
      "   ---------------------------------------- 0.0/229.7 kB ? eta -:--:--\n",
      "   ---------------------------------------- 0.0/229.7 kB ? eta -:--:--\n",
      "   ---------------------------------------- 0.0/229.7 kB ? eta -:--:--\n",
      "   ------- -------------------------------- 41.0/229.7 kB ? eta -:--:--\n",
      "   -------- ------------------------------ 51.2/229.7 kB 435.7 kB/s eta 0:00:01\n",
      "   -------- ------------------------------ 51.2/229.7 kB 435.7 kB/s eta 0:00:01\n",
      "   -------- ------------------------------ 51.2/229.7 kB 435.7 kB/s eta 0:00:01\n",
      "   -------- ------------------------------ 51.2/229.7 kB 435.7 kB/s eta 0:00:01\n",
      "   -------- ------------------------------ 51.2/229.7 kB 435.7 kB/s eta 0:00:01\n",
      "   -------- ------------------------------ 51.2/229.7 kB 435.7 kB/s eta 0:00:01\n",
      "   -------- ------------------------------ 51.2/229.7 kB 435.7 kB/s eta 0:00:01\n",
      "   -------- ------------------------------ 51.2/229.7 kB 435.7 kB/s eta 0:00:01\n",
      "   --------------- ----------------------- 92.2/229.7 kB 180.8 kB/s eta 0:00:01\n",
      "   --------------- ----------------------- 92.2/229.7 kB 180.8 kB/s eta 0:00:01\n",
      "   --------------- ----------------------- 92.2/229.7 kB 180.8 kB/s eta 0:00:01\n",
      "   ------------------ ------------------- 112.6/229.7 kB 177.2 kB/s eta 0:00:01\n",
      "   ------------------ ------------------- 112.6/229.7 kB 177.2 kB/s eta 0:00:01\n",
      "   ------------------ ------------------- 112.6/229.7 kB 177.2 kB/s eta 0:00:01\n",
      "   ------------------ ------------------- 112.6/229.7 kB 177.2 kB/s eta 0:00:01\n",
      "   ------------------ ------------------- 112.6/229.7 kB 177.2 kB/s eta 0:00:01\n",
      "   ------------------ ------------------- 112.6/229.7 kB 177.2 kB/s eta 0:00:01\n",
      "   ------------------ ------------------- 112.6/229.7 kB 177.2 kB/s eta 0:00:01\n",
      "   ------------------ ------------------- 112.6/229.7 kB 177.2 kB/s eta 0:00:01\n",
      "   ------------------ ------------------- 112.6/229.7 kB 177.2 kB/s eta 0:00:01\n",
      "   ----------------------- -------------- 143.4/229.7 kB 131.0 kB/s eta 0:00:01\n",
      "   ----------------------- -------------- 143.4/229.7 kB 131.0 kB/s eta 0:00:01\n",
      "   ------------------------- ------------ 153.6/229.7 kB 129.3 kB/s eta 0:00:01\n",
      "   ------------------------- ------------ 153.6/229.7 kB 129.3 kB/s eta 0:00:01\n",
      "   ------------------------- ------------ 153.6/229.7 kB 129.3 kB/s eta 0:00:01\n",
      "   ------------------------- ------------ 153.6/229.7 kB 129.3 kB/s eta 0:00:01\n",
      "   ------------------------- ------------ 153.6/229.7 kB 129.3 kB/s eta 0:00:01\n",
      "   ---------------------------- --------- 174.1/229.7 kB 121.9 kB/s eta 0:00:01\n",
      "   ---------------------------- --------- 174.1/229.7 kB 121.9 kB/s eta 0:00:01\n",
      "   ---------------------------- --------- 174.1/229.7 kB 121.9 kB/s eta 0:00:01\n",
      "   ---------------------------- --------- 174.1/229.7 kB 121.9 kB/s eta 0:00:01\n",
      "   ---------------------------- --------- 174.1/229.7 kB 121.9 kB/s eta 0:00:01\n",
      "   -------------------------------- ----- 194.6/229.7 kB 119.1 kB/s eta 0:00:01\n",
      "   -------------------------------- ----- 194.6/229.7 kB 119.1 kB/s eta 0:00:01\n",
      "   -------------------------------- ----- 194.6/229.7 kB 119.1 kB/s eta 0:00:01\n",
      "   -------------------------------- ----- 194.6/229.7 kB 119.1 kB/s eta 0:00:01\n",
      "   --------------------------------- ---- 204.8/229.7 kB 112.2 kB/s eta 0:00:01\n",
      "   --------------------------------- ---- 204.8/229.7 kB 112.2 kB/s eta 0:00:01\n",
      "   --------------------------------- ---- 204.8/229.7 kB 112.2 kB/s eta 0:00:01\n",
      "   -------------------------------------- 229.7/229.7 kB 116.0 kB/s eta 0:00:00\n",
      "Installing collected packages: tensorly\n",
      "Successfully installed tensorly-0.8.1\n"
     ]
    }
   ],
   "source": [
    "pip install tensorly\n"
   ]
  },
  {
   "cell_type": "code",
   "execution_count": 82,
   "metadata": {},
   "outputs": [
    {
     "name": "stdout",
     "output_type": "stream",
     "text": [
      "CP decomposition factors:\n",
      "Factor 0:\n",
      " tf.Tensor([1. 1. 1.], shape=(3,), dtype=float32)\n",
      "Factor 1:\n",
      " [<tf.Tensor: shape=(3, 3), dtype=float32, numpy=\n",
      "array([[ 2.6827860e+01, -1.5862721e+00, -1.2653184e-06],\n",
      "       [ 4.4119095e+01, -5.1709586e-01, -2.4378679e-07],\n",
      "       [ 6.1410362e+01,  5.5207729e-01,  7.7774240e-07]], dtype=float32)>, <tf.Tensor: shape=(3, 3), dtype=float32, numpy=\n",
      "array([[ 0.47385353,  1.545288  , -7.145926  ],\n",
      "       [ 0.5722679 ,  1.185217  , -5.1352615 ],\n",
      "       [ 0.6706824 ,  0.8251465 , -3.1245954 ]], dtype=float32)>, <tf.Tensor: shape=(3, 3), dtype=float32, numpy=\n",
      "array([[ 5.7870436e-01,  2.6729801e+00,  2.1645564e+04],\n",
      "       [ 6.0184598e-01,  1.5100015e+00, -2.1562041e+05],\n",
      "       [ 6.2498826e-01,  3.4707579e-01, -4.5287281e+05]], dtype=float32)>]\n"
     ]
    }
   ],
   "source": [
    "import tensorflow as tf\n",
    "import tensorly as tl\n",
    "from tensorly.decomposition import parafac\n",
    "\n",
    "# Set TensorFlow as the backend for TensorLy\n",
    "tl.set_backend('tensorflow')\n",
    "\n",
    "# Define a 3-dimensional tensor\n",
    "tensor = tf.constant([[[1.0, 2.0, 3.0], \n",
    "                       [4.0, 5.0, 6.0], \n",
    "                       [7.0, 8.0, 9.0]],\n",
    "                      \n",
    "                      [[10.0, 11.0, 12.0], \n",
    "                       [13.0, 14.0, 15.0], \n",
    "                       [16.0, 17.0, 18.0]],\n",
    "                      \n",
    "                      [[19.0, 20.0, 21.0], \n",
    "                       [22.0, 23.0, 24.0], \n",
    "                       [25.0, 26.0, 27.0]]])\n",
    "\n",
    "# Perform CP decomposition\n",
    "factors = parafac(tensor, rank=3)\n",
    "\n",
    "# Print the factors\n",
    "print(\"CP decomposition factors:\")\n",
    "for i, factor in enumerate(factors):\n",
    "    print(f\"Factor {i}:\\n\", factor)\n"
   ]
  },
  {
   "cell_type": "code",
   "execution_count": null,
   "metadata": {},
   "outputs": [],
   "source": []
  }
 ],
 "metadata": {
  "kernelspec": {
   "display_name": "Python 3",
   "language": "python",
   "name": "python3"
  },
  "language_info": {
   "codemirror_mode": {
    "name": "ipython",
    "version": 3
   },
   "file_extension": ".py",
   "mimetype": "text/x-python",
   "name": "python",
   "nbconvert_exporter": "python",
   "pygments_lexer": "ipython3",
   "version": "3.12.0"
  }
 },
 "nbformat": 4,
 "nbformat_minor": 2
}
